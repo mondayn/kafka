{
 "cells": [
  {
   "cell_type": "code",
   "execution_count": 7,
   "metadata": {},
   "outputs": [],
   "source": [
    "import subprocess\n",
    "def run_cmd(cmds):\n",
    "    subprocess.Popen(cmds, creationflags=subprocess.CREATE_NEW_CONSOLE)\n",
    "\n",
    "run_cmd(['bin\\windows\\zookeeper-server-start.bat','config\\zookeeper.properties'])"
   ]
  },
  {
   "cell_type": "code",
   "execution_count": 8,
   "metadata": {},
   "outputs": [],
   "source": [
    "run_cmd(['bin\\windows\\kafka-server-start.bat','config\\server.properties'])"
   ]
  },
  {
   "cell_type": "code",
   "execution_count": 9,
   "metadata": {},
   "outputs": [
    {
     "name": "stdout",
     "output_type": "stream",
     "text": [
      "publishing This is a message0 to topic test @ ['localhost:9092']\n",
      "publishing This is a message1 to topic test @ ['localhost:9092']\n",
      "publishing This is a message2 to topic test @ ['localhost:9092']\n",
      "publishing This is a message3 to topic test @ ['localhost:9092']\n",
      "publishing This is a message4 to topic test @ ['localhost:9092']\n",
      "publishing This is a message5 to topic test @ ['localhost:9092']\n",
      "publishing This is a message6 to topic test @ ['localhost:9092']\n",
      "publishing This is a message7 to topic test @ ['localhost:9092']\n",
      "publishing This is a message8 to topic test @ ['localhost:9092']\n",
      "publishing This is a message9 to topic test @ ['localhost:9092']\n"
     ]
    }
   ],
   "source": [
    "import publish"
   ]
  },
  {
   "cell_type": "code",
   "execution_count": 10,
   "metadata": {},
   "outputs": [
    {
     "name": "stdout",
     "output_type": "stream",
     "text": [
      "topic,partition,last_offset = test,0,10\n",
      "7 2025-02-21 02:48:53 PM This is a message7 \n",
      "8 2025-02-21 02:48:53 PM This is a message8 \n",
      "9 2025-02-21 02:48:53 PM This is a message9 \n"
     ]
    }
   ],
   "source": [
    "import consume"
   ]
  },
  {
   "cell_type": "code",
   "execution_count": 11,
   "metadata": {},
   "outputs": [
    {
     "name": "stdout",
     "output_type": "stream",
     "text": [
      "Deleting instance \\\\CORPHVU7470E\\ROOT\\CIMV2:Win32_Process.Handle=\"22716\"\n",
      "\n",
      "Instance deletion successful.\n",
      "\n"
     ]
    }
   ],
   "source": [
    "!bin\\windows\\kafka-server-stop.bat"
   ]
  },
  {
   "cell_type": "code",
   "execution_count": 12,
   "metadata": {},
   "outputs": [
    {
     "name": "stdout",
     "output_type": "stream",
     "text": [
      "Deleting instance \\\\CORPHVU7470E\\ROOT\\CIMV2:Win32_Process.Handle=\"25500\"\n",
      "\n",
      "Instance deletion successful.\n",
      "\n",
      "Deleting instance \\\\CORPHVU7470E\\ROOT\\CIMV2:Win32_Process.Handle=\"11212\"\n",
      "\n",
      "Instance deletion successful.\n",
      "\n",
      "Deleting instance \\\\CORPHVU7470E\\ROOT\\CIMV2:Win32_Process.Handle=\"27148\"\n",
      "\n",
      "Instance deletion successful.\n",
      "\n"
     ]
    }
   ],
   "source": [
    "!bin\\windows\\zookeeper-server-stop.bat"
   ]
  }
 ],
 "metadata": {
  "kernelspec": {
   "display_name": "Python 3.9.0 64-bit",
   "language": "python",
   "name": "python3"
  },
  "language_info": {
   "codemirror_mode": {
    "name": "ipython",
    "version": 3
   },
   "file_extension": ".py",
   "mimetype": "text/x-python",
   "name": "python",
   "nbconvert_exporter": "python",
   "pygments_lexer": "ipython3",
   "version": "3.9.0"
  },
  "orig_nbformat": 4,
  "vscode": {
   "interpreter": {
    "hash": "7a4fde5dcf26184c4662afc06cc49abc96d5309720f551aaafc0c0744649b465"
   }
  }
 },
 "nbformat": 4,
 "nbformat_minor": 2
}
